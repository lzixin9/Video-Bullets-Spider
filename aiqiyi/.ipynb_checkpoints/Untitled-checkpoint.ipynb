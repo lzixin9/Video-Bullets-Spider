{
 "cells": [
  {
   "cell_type": "markdown",
   "metadata": {},
   "source": [
    "# 数据处理\n"
   ]
  },
  {
   "cell_type": "code",
   "execution_count": null,
   "metadata": {},
   "outputs": [],
   "source": []
  },
  {
   "cell_type": "markdown",
   "metadata": {},
   "source": [
    "# 导入相关包"
   ]
  },
  {
   "cell_type": "code",
   "execution_count": null,
   "metadata": {},
   "outputs": [],
   "source": [
    "#coding:utf-8\n",
    "import jieba    #分词包\n",
    "import numpy as np    #numpy计算包\n",
    "import codecs   #codecs语言代码处理包\n",
    "import pandas as pd   #数据分析包\n",
    "import matplotlib.pyplot as plt\n",
    "from wordcloud import WordCloud#词云包"
   ]
  },
  {
   "cell_type": "markdown",
   "metadata": {},
   "source": [
    "#  导入聊天记录筛选.txt，用分词包进行切词\n"
   ]
  },
  {
   "cell_type": "code",
   "execution_count": null,
   "metadata": {},
   "outputs": [],
   "source": [
    "file=codecs.open(u\"..\\create_data\\wordcloud2.txt\",'r',encoding='utf-8')\n",
    "content=file.read()\n",
    "file.close()\n",
    "segment=[]\n",
    "segs=jieba.cut(content) #切词\n",
    "for seg in segs:\n",
    "    if len(seg)>1 and seg!='\\r\\n':\n",
    "        segment.append(seg)\n",
    "content"
   ]
  },
  {
   "cell_type": "markdown",
   "metadata": {},
   "source": [
    "# 去停用词"
   ]
  },
  {
   "cell_type": "code",
   "execution_count": 3,
   "metadata": {},
   "outputs": [],
   "source": [
    "words_df=pd.DataFrame({'segment':segment})\n",
    "words_df.head()\n",
    "stopwords=pd.read_csv(\"..\\original_data\\stopwords.txt\",index_col=False,quoting=3,sep=\"\\t\",names=['stopword'],encoding=\"utf-8\")\n",
    "words_df=words_df[~words_df.segment.isin(stopwords.stopword)]"
   ]
  },
  {
   "cell_type": "markdown",
   "metadata": {},
   "source": [
    "# 统计频率并排序"
   ]
  },
  {
   "cell_type": "code",
   "execution_count": 4,
   "metadata": {},
   "outputs": [
    {
     "data": {
      "text/html": [
       "<div>\n",
       "<style scoped>\n",
       "    .dataframe tbody tr th:only-of-type {\n",
       "        vertical-align: middle;\n",
       "    }\n",
       "\n",
       "    .dataframe tbody tr th {\n",
       "        vertical-align: top;\n",
       "    }\n",
       "\n",
       "    .dataframe thead th {\n",
       "        text-align: right;\n",
       "    }\n",
       "</style>\n",
       "<table border=\"1\" class=\"dataframe\">\n",
       "  <thead>\n",
       "    <tr style=\"text-align: right;\">\n",
       "      <th></th>\n",
       "      <th>segment</th>\n",
       "      <th>计数</th>\n",
       "    </tr>\n",
       "  </thead>\n",
       "  <tbody>\n",
       "    <tr>\n",
       "      <th>4032</th>\n",
       "      <td>哈哈哈</td>\n",
       "      <td>513</td>\n",
       "    </tr>\n",
       "    <tr>\n",
       "      <th>6279</th>\n",
       "      <td>感觉</td>\n",
       "      <td>468</td>\n",
       "    </tr>\n",
       "    <tr>\n",
       "      <th>4121</th>\n",
       "      <td>喜欢</td>\n",
       "      <td>415</td>\n",
       "    </tr>\n",
       "    <tr>\n",
       "      <th>9433</th>\n",
       "      <td>真的</td>\n",
       "      <td>398</td>\n",
       "    </tr>\n",
       "    <tr>\n",
       "      <th>4945</th>\n",
       "      <td>好看</td>\n",
       "      <td>304</td>\n",
       "    </tr>\n",
       "    <tr>\n",
       "      <th>7432</th>\n",
       "      <td>明天</td>\n",
       "      <td>266</td>\n",
       "    </tr>\n",
       "    <tr>\n",
       "      <th>4997</th>\n",
       "      <td>妹子</td>\n",
       "      <td>234</td>\n",
       "    </tr>\n",
       "    <tr>\n",
       "      <th>1582</th>\n",
       "      <td>不想</td>\n",
       "      <td>198</td>\n",
       "    </tr>\n",
       "    <tr>\n",
       "      <th>4878</th>\n",
       "      <td>好像</td>\n",
       "      <td>196</td>\n",
       "    </tr>\n",
       "    <tr>\n",
       "      <th>1860</th>\n",
       "      <td>为啥</td>\n",
       "      <td>193</td>\n",
       "    </tr>\n",
       "  </tbody>\n",
       "</table>\n",
       "</div>"
      ],
      "text/plain": [
       "     segment   计数\n",
       "4032     哈哈哈  513\n",
       "6279      感觉  468\n",
       "4121      喜欢  415\n",
       "9433      真的  398\n",
       "4945      好看  304\n",
       "7432      明天  266\n",
       "4997      妹子  234\n",
       "1582      不想  198\n",
       "4878      好像  196\n",
       "1860      为啥  193"
      ]
     },
     "execution_count": 4,
     "metadata": {},
     "output_type": "execute_result"
    }
   ],
   "source": [
    "words_stat = words_df.groupby('segment').agg(计数=pd.NamedAgg(column='segment', aggfunc='size')).reset_index().sort_values(\n",
    "    by='计数', ascending=False)\n",
    "words_stat.head(10)  #打印统计结果"
   ]
  },
  {
   "cell_type": "code",
   "execution_count": 5,
   "metadata": {},
   "outputs": [
    {
     "name": "stdout",
     "output_type": "stream",
     "text": [
      "Using matplotlib backend: Qt5Agg\n"
     ]
    }
   ],
   "source": [
    "# from scipy.misc import imread\n",
    "import matplotlib.pyplot as plt\n",
    "from wordcloud import WordCloud,ImageColorGenerator, STOPWORDS\n",
    "%matplotlib \n",
    "# bimg=imread('tuoyuan.jpg')\n",
    "wordcloud=WordCloud(background_color='white',\n",
    "               max_words=900,\n",
    "               stopwords=STOPWORDS,\n",
    "               font_path='msyh.ttc',  # 设置字体格式\n",
    "               max_font_size=700,  # 设置字体最大值\n",
    "               random_state=100,  # 设置有多少种随机生成状态，即有多少种配色方案\n",
    "               width=1000,  # 生成图片的大小\n",
    "               height=800,)\n",
    "#wordcloud=wordcloud.fit_words(words_stat.head(4000).itertuples(index=False))\n",
    "words = words_stat.set_index(\"segment\").to_dict()\n",
    "wordcloud=wordcloud.fit_words(words[\"计数\"])\n",
    "# bimgColors=ImageColorGenerator(bimg)\n",
    "plt.axis(\"off\")\n",
    "plt.imshow(wordcloud.recolor())\n",
    "plt.show()"
   ]
  },
  {
   "cell_type": "code",
   "execution_count": null,
   "metadata": {},
   "outputs": [],
   "source": []
  }
 ],
 "metadata": {
  "kernelspec": {
   "display_name": "Python 3",
   "language": "python",
   "name": "python3"
  },
  "language_info": {
   "codemirror_mode": {
    "name": "ipython",
    "version": 3
   },
   "file_extension": ".py",
   "mimetype": "text/x-python",
   "name": "python",
   "nbconvert_exporter": "python",
   "pygments_lexer": "ipython3",
   "version": "3.7.7"
  },
  "toc": {
   "base_numbering": 1,
   "nav_menu": {},
   "number_sections": true,
   "sideBar": true,
   "skip_h1_title": false,
   "title_cell": "Table of Contents",
   "title_sidebar": "Contents",
   "toc_cell": false,
   "toc_position": {},
   "toc_section_display": true,
   "toc_window_display": true
  }
 },
 "nbformat": 4,
 "nbformat_minor": 4
}
